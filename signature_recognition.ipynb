{
 "cells": [
  {
   "cell_type": "code",
   "execution_count": 31,
   "metadata": {},
   "outputs": [],
   "source": [
    "import os"
   ]
  },
  {
   "cell_type": "code",
   "execution_count": 32,
   "metadata": {},
   "outputs": [
    {
     "name": "stdout",
     "output_type": "stream",
     "text": [
      "['001', '001_forg', '002', '002_forg', '003', '003_forg', '004', '004_forg', '006', '006_forg', '009', '009_forg', '012', '012_forg', '013', '013_forg', '014', '014_forg', '015', '015_forg', '016', '016_forg', '017', '017_forg', '018', '018_forg', '019', '019_forg', '020', '020_forg', '021', '021_forg', '022', '022_forg', '023', '023_forg', '024', '024_forg', '025', '025_forg', '026', '026_forg', '027', '027_forg', '028', '028_forg', '029', '029_forg', '030', '030_forg', '031', '031_forg', '032', '032_forg', '033', '033_forg', '034', '034_forg', '035', '035_forg', '036', '036_forg', '037', '037_forg', '038', '038_forg', '039', '039_forg', '040', '040_forg', '041', '041_forg', '042', '042_forg', '043', '043_forg', '044', '044_forg', '045', '045_forg', '046', '046_forg', '047', '047_forg', '048', '048_forg', '049', '049_forg', '050', '050_forg', '051', '051_forg', '052', '052_forg', '053', '053_forg', '054', '054_forg', '055', '055_forg', '056', '056_forg', '057', '057_forg', '058', '058_forg', '059', '059_forg', '060', '060_forg', '061', '061_forg', '062', '062_forg', '063', '063_forg', '064', '064_forg', '065', '065_forg', '066', '066_forg', '067', '067_forg', '068', '068_forg', '069', '069_forg']\n",
      "128\n"
     ]
    }
   ],
   "source": [
    "test_path = \"D://New folder/machinelearning/projects/signature recognition/sign_data/test\"\n",
    "train_path = \"D://New folder/machinelearning/projects/signature recognition/sign_data/train\"\n",
    "classes = os.listdir(train_path)\n",
    "print(classes)\n",
    "print(len(classes))"
   ]
  },
  {
   "cell_type": "code",
   "execution_count": 33,
   "metadata": {},
   "outputs": [],
   "source": [
    "ROWS = 190\n",
    "COLS = 160\n",
    "CHANNELS = 3"
   ]
  },
  {
   "cell_type": "code",
   "execution_count": 34,
   "metadata": {},
   "outputs": [],
   "source": [
    "import tensorflow as tf\n",
    "from tensorflow.keras.preprocessing.image import ImageDataGenerator"
   ]
  },
  {
   "cell_type": "code",
   "execution_count": 35,
   "metadata": {},
   "outputs": [
    {
     "name": "stdout",
     "output_type": "stream",
     "text": [
      "Found 1649 images belonging to 128 classes.\n"
     ]
    }
   ],
   "source": [
    "train_datagen = ImageDataGenerator(rescale=1/255.0)\n",
    "train_generator = train_datagen.flow_from_directory(train_path,\n",
    "                                                   target_size=(ROWS,COLS),\n",
    "                                                   batch_size=32,\n",
    "                                                    color_mode=\"rgb\",\n",
    "                                                   class_mode='categorical')"
   ]
  },
  {
   "cell_type": "code",
   "execution_count": 36,
   "metadata": {},
   "outputs": [
    {
     "name": "stdout",
     "output_type": "stream",
     "text": [
      "Found 498 images belonging to 42 classes.\n"
     ]
    }
   ],
   "source": [
    "test_datagen = ImageDataGenerator(rescale=1/255.0)\n",
    "validation_generator = test_datagen.flow_from_directory(test_path,\n",
    "                                                   target_size=(ROWS,COLS),\n",
    "                                                        color_mode=\"rgb\",\n",
    "                                                   batch_size=32,\n",
    "                                                   class_mode='categorical')"
   ]
  },
  {
   "cell_type": "code",
   "execution_count": null,
   "metadata": {},
   "outputs": [],
   "source": []
  },
  {
   "cell_type": "code",
   "execution_count": 37,
   "metadata": {},
   "outputs": [],
   "source": [
    "from tensorflow.keras import backend as K\n",
    "def center_normalize(x):\n",
    "    return (x- K.mean(x))/K.std(x)"
   ]
  },
  {
   "cell_type": "code",
   "execution_count": 43,
   "metadata": {},
   "outputs": [],
   "source": [
    "model = tf.keras.models.Sequential([\n",
    "    tf.keras.layers.Activation(activation=center_normalize,input_shape=(ROWS,COLS,CHANNELS)),\n",
    "    tf.keras.layers.Conv2D(64,3,3,padding='same'),\n",
    "    tf.keras.layers.Activation('relu'),\n",
    "    tf.keras.layers.Conv2D(64,3,3,padding='valid'),\n",
    "    tf.keras.layers.Activation('relu'),\n",
    "    tf.keras.layers.ZeroPadding2D(),\n",
    "    tf.keras.layers.MaxPooling2D(),\n",
    "    tf.keras.layers.Dropout(0.25),\n",
    "    \n",
    "        \n",
    "\n",
    "    tf.keras.layers.Conv2D(96,3,3,padding='same'),\n",
    "    tf.keras.layers.Activation('relu'),\n",
    "    tf.keras.layers.Conv2D(96,3,3,padding='valid'),\n",
    "    tf.keras.layers.Activation('relu'),\n",
    "    tf.keras.layers.ZeroPadding2D(),\n",
    "    tf.keras.layers.MaxPooling2D(),\n",
    "    tf.keras.layers.Dropout(0.25),\n",
    "    \n",
    "   \n",
    "    \n",
    "    tf.keras.layers.Flatten(),\n",
    "    tf.keras.layers.Dense(1024),\n",
    "    tf.keras.layers.Activation('relu'),\n",
    "    tf.keras.layers.Dropout(0.5),\n",
    "    tf.keras.layers.Dense(len(classes)),\n",
    "    tf.keras.layers.Activation('sigmoid')\n",
    "    \n",
    "       \n",
    "])"
   ]
  },
  {
   "cell_type": "code",
   "execution_count": null,
   "metadata": {},
   "outputs": [],
   "source": []
  },
  {
   "cell_type": "code",
   "execution_count": 44,
   "metadata": {},
   "outputs": [],
   "source": [
    "from tensorflow.keras.optimizers import RMSprop\n",
    "\n",
    "model.compile(optimizer='adam',\n",
    "              loss='categorical_crossentropy',\n",
    "              metrics = ['accuracy'])"
   ]
  },
  {
   "cell_type": "code",
   "execution_count": 45,
   "metadata": {},
   "outputs": [
    {
     "name": "stdout",
     "output_type": "stream",
     "text": [
      "Epoch 1/15\n",
      "52/52 [==============================] - 6s 120ms/step - loss: 4.8426 - accuracy: 0.0139\n",
      "Epoch 2/15\n",
      "52/52 [==============================] - 7s 125ms/step - loss: 4.4212 - accuracy: 0.0606\n",
      "Epoch 3/15\n",
      "52/52 [==============================] - 7s 126ms/step - loss: 3.3614 - accuracy: 0.2050\n",
      "Epoch 4/15\n",
      "52/52 [==============================] - 6s 122ms/step - loss: 2.6813 - accuracy: 0.3354\n",
      "Epoch 5/15\n",
      "52/52 [==============================] - 6s 122ms/step - loss: 2.2002 - accuracy: 0.4227\n",
      "Epoch 6/15\n",
      "52/52 [==============================] - 6s 122ms/step - loss: 1.8830 - accuracy: 0.4882\n",
      "Epoch 7/15\n",
      "52/52 [==============================] - 6s 122ms/step - loss: 1.6014 - accuracy: 0.5500\n",
      "Epoch 8/15\n",
      "52/52 [==============================] - 6s 123ms/step - loss: 1.4378 - accuracy: 0.5834\n",
      "Epoch 9/15\n",
      "52/52 [==============================] - 6s 124ms/step - loss: 1.2993 - accuracy: 0.6198\n",
      "Epoch 10/15\n",
      "52/52 [==============================] - 6s 123ms/step - loss: 1.1268 - accuracy: 0.6537\n",
      "Epoch 11/15\n",
      "52/52 [==============================] - 7s 125ms/step - loss: 1.0007 - accuracy: 0.7095\n",
      "Epoch 12/15\n",
      "52/52 [==============================] - 7s 128ms/step - loss: 0.9482 - accuracy: 0.7204\n",
      "Epoch 13/15\n",
      "52/52 [==============================] - 6s 124ms/step - loss: 0.8312 - accuracy: 0.7326\n",
      "Epoch 14/15\n",
      "52/52 [==============================] - 6s 123ms/step - loss: 0.7578 - accuracy: 0.7690\n",
      "Epoch 15/15\n",
      "52/52 [==============================] - 6s 125ms/step - loss: 0.6701 - accuracy: 0.7944\n"
     ]
    }
   ],
   "source": [
    "history = model.fit(train_generator,\n",
    "                   epochs=15\n",
    "                   )"
   ]
  },
  {
   "cell_type": "code",
   "execution_count": 61,
   "metadata": {},
   "outputs": [],
   "source": [
    "import cv2\n",
    "import numpy as np\n",
    "path = 'D:/New folder/machinelearning/projects/signature recognition/sign_data/04_0120051.PNG'\n",
    "img = cv2.imread(path)\n",
    "img = cv2.resize(img,(ROWS,COLS))\n",
    "x = img\n",
    "x = np.expand_dims(x,axis=0)\n",
    "images = np.vstack([x])\n",
    "names = model.predict(images,batch_size=10)\n",
    "\n"
   ]
  },
  {
   "cell_type": "code",
   "execution_count": 62,
   "metadata": {},
   "outputs": [
    {
     "data": {
      "text/plain": [
       "(1, 128)"
      ]
     },
     "execution_count": 62,
     "metadata": {},
     "output_type": "execute_result"
    }
   ],
   "source": [
    "names.shape"
   ]
  },
  {
   "cell_type": "code",
   "execution_count": 63,
   "metadata": {},
   "outputs": [
    {
     "name": "stdout",
     "output_type": "stream",
     "text": [
      "051_forg\n"
     ]
    }
   ],
   "source": [
    "print(classes[np.argmax(names)])"
   ]
  },
  {
   "cell_type": "code",
   "execution_count": 64,
   "metadata": {},
   "outputs": [
    {
     "name": "stdout",
     "output_type": "stream",
     "text": [
      "[[5.35478284e-06 4.10537604e-09 4.94967511e-10 5.73018133e-10\n",
      "  1.89792662e-08 8.30464444e-07 9.80433938e-08 5.08145988e-08\n",
      "  7.88137111e-09 1.02420026e-05 1.89541666e-07 1.97236864e-06\n",
      "  2.94943311e-05 3.27494035e-06 4.50974476e-08 4.09993675e-07\n",
      "  1.20391746e-06 3.80456058e-08 8.10215176e-13 2.00631400e-10\n",
      "  1.03904609e-08 2.72430072e-04 4.39672687e-10 1.01538226e-05\n",
      "  1.17377567e-04 1.12456502e-04 1.77216137e-07 2.44150215e-07\n",
      "  1.31586325e-10 1.40966947e-07 6.23366418e-07 1.51392805e-05\n",
      "  6.41961662e-07 1.37833786e-06 3.11809202e-07 2.64544064e-11\n",
      "  2.95578070e-06 7.25032005e-04 6.46626885e-09 5.71518444e-10\n",
      "  6.11725026e-09 1.54394475e-09 3.89996103e-07 6.56827206e-06\n",
      "  9.68484581e-09 6.38717154e-07 5.84589124e-08 4.03242598e-13\n",
      "  6.10618969e-08 1.16772803e-07 6.29312694e-07 2.84049037e-07\n",
      "  9.87397386e-10 2.22571277e-08 1.55119428e-09 3.45832674e-09\n",
      "  2.77073304e-05 2.44926781e-07 2.11866364e-08 8.42631687e-10\n",
      "  1.19415323e-04 3.67335844e-07 1.14834475e-10 2.77102480e-10\n",
      "  8.90284753e-07 5.32809779e-08 7.84461633e-08 4.27280966e-09\n",
      "  3.84360817e-07 8.84291538e-08 6.74814714e-07 1.15294426e-07\n",
      "  1.10114288e-05 3.23241955e-04 6.58159465e-08 1.86257262e-06\n",
      "  1.34434348e-08 6.08792470e-05 6.32617159e-09 8.52080273e-09\n",
      "  9.85738211e-07 3.71789270e-06 9.02592146e-05 1.59576070e-04\n",
      "  1.03274527e-08 5.38327694e-09 1.82087331e-10 7.91832822e-10\n",
      "  8.85964191e-09 1.49411949e-06 2.10977169e-06 4.31146473e-03\n",
      "  2.18132956e-10 8.87048035e-09 3.95175906e-11 2.07750572e-09\n",
      "  1.75012593e-09 2.71301714e-09 2.75784117e-07 3.87971646e-08\n",
      "  6.56063203e-05 3.78728146e-05 1.09878506e-09 7.82795723e-07\n",
      "  1.16354379e-07 6.23659503e-07 2.12120369e-07 2.31255570e-09\n",
      "  1.48235868e-08 2.10560486e-10 3.30096063e-12 5.65348853e-12\n",
      "  2.93882124e-07 2.82414554e-08 4.78066475e-10 1.52702953e-08\n",
      "  4.41508448e-08 1.62088483e-07 3.69488566e-06 2.45643187e-05\n",
      "  1.82356903e-08 4.71071040e-08 3.33351506e-11 2.33157826e-09\n",
      "  5.36375944e-10 1.69799996e-08 1.19177168e-09 3.50565715e-10]]\n"
     ]
    }
   ],
   "source": [
    "print(names)"
   ]
  },
  {
   "cell_type": "code",
   "execution_count": null,
   "metadata": {},
   "outputs": [],
   "source": []
  },
  {
   "cell_type": "code",
   "execution_count": null,
   "metadata": {},
   "outputs": [],
   "source": []
  },
  {
   "cell_type": "code",
   "execution_count": null,
   "metadata": {},
   "outputs": [],
   "source": []
  },
  {
   "cell_type": "code",
   "execution_count": null,
   "metadata": {},
   "outputs": [],
   "source": []
  }
 ],
 "metadata": {
  "kernelspec": {
   "display_name": "Python 3",
   "language": "python",
   "name": "python3"
  },
  "language_info": {
   "codemirror_mode": {
    "name": "ipython",
    "version": 3
   },
   "file_extension": ".py",
   "mimetype": "text/x-python",
   "name": "python",
   "nbconvert_exporter": "python",
   "pygments_lexer": "ipython3",
   "version": "3.7.6"
  }
 },
 "nbformat": 4,
 "nbformat_minor": 4
}
